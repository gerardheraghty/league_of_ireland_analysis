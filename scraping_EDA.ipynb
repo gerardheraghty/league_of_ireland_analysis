{
 "cells": [
  {
   "cell_type": "code",
   "execution_count": 87,
   "id": "423f2ee7",
   "metadata": {},
   "outputs": [],
   "source": [
    "#pip install dash_bootstrap_components"
   ]
  },
  {
   "cell_type": "code",
   "execution_count": 2,
   "id": "c00191da",
   "metadata": {},
   "outputs": [],
   "source": [
    "#pip install selenium"
   ]
  },
  {
   "cell_type": "code",
   "execution_count": 1,
   "id": "b16e40d1",
   "metadata": {},
   "outputs": [],
   "source": [
    "import requests\n",
    "from bs4 import BeautifulSoup \n",
    "import random\n",
    "import pandas as pd\n",
    "from datetime import datetime\n",
    "import time\n",
    "import base64\n",
    "\n",
    "#importing visualisation libraries\n",
    "import seaborn as sns\n",
    "import matplotlib.pyplot as plt \n",
    "%matplotlib inline \n",
    "import plotly.express as px\n",
    "import plotly.graph_objects as go\n",
    "from dash import Dash, dcc, html, Input, Output, callback\n",
    "import dash_bootstrap_components as dbc"
   ]
  },
  {
   "cell_type": "code",
   "execution_count": 3,
   "id": "efd37421",
   "metadata": {},
   "outputs": [],
   "source": [
    "#importing necessary packages for selenium as attendances are \n",
    "#populated using javascript therefore regular scraping will not suffice\n",
    "from selenium import webdriver\n",
    "from selenium.webdriver.common.by import By\n",
    "from selenium.webdriver.support.ui import WebDriverWait\n",
    "from selenium.webdriver.support import expected_conditions as EC"
   ]
  },
  {
   "cell_type": "markdown",
   "id": "104e5bb1",
   "metadata": {},
   "source": [
    "#### Running for one web page on leagueofireland.ie"
   ]
  },
  {
   "cell_type": "code",
   "execution_count": 8,
   "id": "3bc79d01",
   "metadata": {},
   "outputs": [],
   "source": [
    "#opening the webdriver\n",
    "driver = webdriver.Chrome()  "
   ]
  },
  {
   "cell_type": "code",
   "execution_count": 9,
   "id": "80d9672f",
   "metadata": {},
   "outputs": [],
   "source": [
    "#url = \"https://www.leagueofireland.ie/game_centre/2283/\"\n",
    "url = \"https://www.leagueofireland.ie/game_centre/329/\""
   ]
  },
  {
   "cell_type": "code",
   "execution_count": 10,
   "id": "de20d1b7",
   "metadata": {},
   "outputs": [],
   "source": [
    "driver.get(url)"
   ]
  },
  {
   "cell_type": "code",
   "execution_count": 11,
   "id": "8bc8b18c",
   "metadata": {},
   "outputs": [],
   "source": [
    "# Handle alert if it appears\n",
    "try:\n",
    "    alert = WebDriverWait(driver, 2).until(EC.alert_is_present())  # Wait for alert\n",
    "    alert.accept()  # Accept the alert (you can use alert.dismiss() to close it)\n",
    "except:\n",
    "    pass  # If no alert, just continue\n",
    "\n",
    "try:\n",
    "    # Wait for the attendance element to be populated\n",
    "    game_centre_info_element = WebDriverWait(driver, 5).until(\n",
    "                               EC.presence_of_element_located((By.CLASS_NAME, \"game-centre__header--info\"))\n",
    "                                )\n",
    "    score_element = WebDriverWait(driver, 5).until(\n",
    "                           EC.presence_of_element_located((By.CLASS_NAME, \"game-centre__header--score\"))\n",
    "                            )\n",
    "    kick_off_element = WebDriverWait(driver, 5).until(\n",
    "                           EC.presence_of_element_located((By.CLASS_NAME, \"game-centre__header--kickoff\"))\n",
    "                            )\n",
    "    \n",
    "    #getting the score and game centre info\n",
    "    game_score = score_element.text.strip()\n",
    "    game_centre_info = game_centre_info_element.text.strip()\n",
    "    kick_off_time = kick_off_element.text.strip()\n",
    "    \n",
    "    if game_score == 'v':\n",
    "        home_goals = 'postponed'\n",
    "        away_goals = 'postponed'\n",
    "    else:\n",
    "        home_goals_element = WebDriverWait(driver, 5).until(\n",
    "                            EC.presence_of_element_located((By.CLASS_NAME, \"home-goals\"))\n",
    "                                )\n",
    "        away_goals_element = WebDriverWait(driver, 5).until(\n",
    "                               EC.presence_of_element_located((By.CLASS_NAME, \"away-goals\"))\n",
    "                                )\n",
    "        home_goals = home_goals_element.text.strip()\n",
    "        away_goals = away_goals_element.text.strip()\n",
    "    \n",
    "except Exception as e:\n",
    "    print(\"Error:\", e)\n",
    "    \n",
    "finally:\n",
    "    driver.quit()"
   ]
  },
  {
   "cell_type": "code",
   "execution_count": 13,
   "id": "51e04eea",
   "metadata": {},
   "outputs": [
    {
     "name": "stdout",
     "output_type": "stream",
     "text": [
      "Cork City FC vs Shelbourne FC\n"
     ]
    }
   ],
   "source": [
    "response = requests.get(url)\n",
    "\n",
    "if response.status_code == 200:\n",
    "    page_content = response.text\n",
    "else:\n",
    "    print(f\"Failed to retrieve the page. Status code: {response.status_code}\")\n",
    "    \n",
    "soup = BeautifulSoup(page_content, 'html.parser')\n",
    "\n",
    "#away_team = soup.find('h6', class_='text-center text-lg-start mb-2').get_text(strip=True)\n",
    "teams = soup.find_all('span', class_='d-none d-lg-block')\n",
    "# Extracting the text from each span\n",
    "team_names = [team.get_text(strip=True) for team in teams]\n",
    "home_team = team_names[0]\n",
    "away_team = team_names[1]\n",
    "    \n",
    "print(f\"{home_team} vs {away_team}\")"
   ]
  },
  {
   "cell_type": "markdown",
   "id": "d141a911",
   "metadata": {},
   "source": [
    "### I want to only focus on premier division games for now"
   ]
  },
  {
   "cell_type": "code",
   "execution_count": 14,
   "id": "71c49169",
   "metadata": {},
   "outputs": [],
   "source": [
    "url = \"https://www.leagueofireland.ie/game_centre/4/\""
   ]
  },
  {
   "cell_type": "code",
   "execution_count": 16,
   "id": "eddfe1e6",
   "metadata": {},
   "outputs": [
    {
     "name": "stdout",
     "output_type": "stream",
     "text": [
      "premier\n"
     ]
    }
   ],
   "source": [
    "response = requests.get(url)\n",
    "\n",
    "if response.status_code == 200:\n",
    "    page_content = response.text\n",
    "else:\n",
    "    print(f\"Failed to retrieve the page. Status code: {response.status_code}\")\n",
    "    \n",
    "soup = BeautifulSoup(page_content, 'html.parser')\n",
    "\n",
    "# Find the meta tag with name=\"description\"\n",
    "meta_tag = soup.find(\"meta\", attrs={\"name\": \"description\"})\n",
    "# Extract the content\n",
    "meta_content = meta_tag[\"content\"] if meta_tag else \"\"\n",
    "\n",
    "# Find the part that starts with \"Premier\"\n",
    "for word in meta_content.split(\",\"):\n",
    "    if \"Premier\" in word:\n",
    "        print('premier')"
   ]
  },
  {
   "cell_type": "code",
   "execution_count": 17,
   "id": "9443435e",
   "metadata": {},
   "outputs": [
    {
     "data": {
      "text/plain": [
       "\"League of Ireland | St Pat's v Derry\""
      ]
     },
     "execution_count": 17,
     "metadata": {},
     "output_type": "execute_result"
    }
   ],
   "source": [
    "title_text = soup.title.text\n",
    "title_text"
   ]
  },
  {
   "cell_type": "code",
   "execution_count": 18,
   "id": "685b0060",
   "metadata": {},
   "outputs": [
    {
     "data": {
      "text/plain": [
       "'Sat 4 Nov 2023\\nMayfield United FC Astro'"
      ]
     },
     "execution_count": 18,
     "metadata": {},
     "output_type": "execute_result"
    }
   ],
   "source": [
    "# not all game centre infos are completely populated so need to account for this to avoid errors\n",
    "game_centre_info"
   ]
  },
  {
   "cell_type": "code",
   "execution_count": 19,
   "id": "9296f57e",
   "metadata": {},
   "outputs": [
    {
     "data": {
      "text/plain": [
       "['Sat 4 Nov 2023', 'Mayfield United FC Astro']"
      ]
     },
     "execution_count": 19,
     "metadata": {},
     "output_type": "execute_result"
    }
   ],
   "source": [
    "lines = game_centre_info.split(\"\\n\")\n",
    "lines"
   ]
  },
  {
   "cell_type": "markdown",
   "id": "2fe992ad",
   "metadata": {},
   "source": [
    "-------\n",
    "### writing a function to iterate through all the 'game centres' on leagueofireland.ie"
   ]
  },
  {
   "cell_type": "code",
   "execution_count": 20,
   "id": "5c027d18",
   "metadata": {},
   "outputs": [],
   "source": [
    "def check_premier(url):\n",
    "    response = requests.get(url)\n",
    "\n",
    "    if response.status_code == 200:\n",
    "        page_content = response.text\n",
    "    else:\n",
    "        print(f\"Failed to retrieve the page. Status code: {response.status_code}\")\n",
    "\n",
    "    soup = BeautifulSoup(page_content, 'html.parser')\n",
    "\n",
    "    # Find the meta tag with name=\"description\"\n",
    "    meta_tag = soup.find(\"meta\", attrs={\"name\": \"description\"})\n",
    "    # Extract the content\n",
    "    meta_content = meta_tag[\"content\"] if meta_tag else \"\"\n",
    "\n",
    "    # Find the part that starts with \"Premier\"\n",
    "    cont = False\n",
    "    for word in meta_content.split(\",\"):\n",
    "        if \"Premier\" in word:\n",
    "            cont = True\n",
    "    return cont"
   ]
  },
  {
   "cell_type": "code",
   "execution_count": 21,
   "id": "96a0fc6c",
   "metadata": {},
   "outputs": [
    {
     "data": {
      "text/plain": [
       "False"
      ]
     },
     "execution_count": 21,
     "metadata": {},
     "output_type": "execute_result"
    }
   ],
   "source": [
    "check_premier(\"https://www.leagueofireland.ie/game_centre/329/\")"
   ]
  },
  {
   "cell_type": "code",
   "execution_count": 22,
   "id": "cd3a1560",
   "metadata": {},
   "outputs": [],
   "source": [
    "def scrape_loi_webpage(url):\n",
    "    #opening the webdriver\n",
    "    print(f'Running for {url}')\n",
    "    driver = webdriver.Chrome() \n",
    "    driver.get(url)\n",
    "    \n",
    "    time.sleep(.5)\n",
    "    # Handle alert if it appears\n",
    "    try:\n",
    "        alert = WebDriverWait(driver, 2).until(EC.alert_is_present())  # Wait for alert\n",
    "        alert.accept()  # Accept the alert (you can use alert.dismiss() to close it)\n",
    "    except:\n",
    "        pass  # If no alert, just continue\n",
    "\n",
    "    try:\n",
    "        # Wait for the attendance element to be populated\n",
    "        game_centre_info_element = WebDriverWait(driver, 5).until(\n",
    "                                   EC.presence_of_element_located((By.CLASS_NAME, \"game-centre__header--info\"))\n",
    "                                    )\n",
    "        score_element = WebDriverWait(driver, 5).until(\n",
    "                               EC.presence_of_element_located((By.CLASS_NAME, \"game-centre__header--score\"))\n",
    "                                )\n",
    "        kick_off_element = WebDriverWait(driver, 5).until(\n",
    "                               EC.presence_of_element_located((By.CLASS_NAME, \"game-centre__header--kickoff\"))\n",
    "                                )\n",
    "\n",
    "        #getting the score and game centre info\n",
    "        game_score = score_element.text.strip()\n",
    "        game_centre_info = game_centre_info_element.text.strip()\n",
    "        kick_off_time = kick_off_element.text.strip()\n",
    "\n",
    "        if game_score == 'v':\n",
    "            home_goals = 'postponed'\n",
    "            away_goals = 'postponed'\n",
    "        else:\n",
    "            home_goals_element = WebDriverWait(driver, 5).until(\n",
    "                                EC.presence_of_element_located((By.CLASS_NAME, \"home-goals\"))\n",
    "                                    )\n",
    "            away_goals_element = WebDriverWait(driver, 5).until(\n",
    "                                   EC.presence_of_element_located((By.CLASS_NAME, \"away-goals\"))\n",
    "                                    )\n",
    "            home_goals = home_goals_element.text.strip()\n",
    "            away_goals = away_goals_element.text.strip()\n",
    "\n",
    "    except Exception as e:\n",
    "        print(\"Error:\", e)\n",
    "\n",
    "    finally:\n",
    "        driver.quit()\n",
    "    #------------------------------#\n",
    "            \n",
    "    #using regular html request to get teams\n",
    "    response = requests.get(url)\n",
    "\n",
    "    if response.status_code == 200:\n",
    "        page_content = response.text\n",
    "    else:\n",
    "        print(f\"Failed to retrieve the page. Status code: {response.status_code}\")\n",
    "\n",
    "    soup = BeautifulSoup(page_content, 'html.parser')\n",
    "\n",
    "    teams = soup.find_all('span', class_='d-none d-lg-block')\n",
    "    # Extracting the text from each span\n",
    "    team_names = [team.get_text(strip=True) for team in teams]\n",
    "    home_team = team_names[0]\n",
    "    away_team = team_names[1]\n",
    "    \n",
    "    game_centre_info = game_centre_info.split(\"\\n\")\n",
    "    \n",
    "    #creating dataframe\n",
    "    return home_team, away_team, game_score, kick_off_time, home_goals, away_goals, game_centre_info"
   ]
  },
  {
   "cell_type": "code",
   "execution_count": 23,
   "id": "13f73712",
   "metadata": {},
   "outputs": [
    {
     "name": "stdout",
     "output_type": "stream",
     "text": [
      "Running for https://www.leagueofireland.ie/game_centre/4454/\n"
     ]
    }
   ],
   "source": [
    "url = \"https://www.leagueofireland.ie/game_centre/4454/\"\n",
    "data = scrape_loi_webpage(url)"
   ]
  },
  {
   "cell_type": "code",
   "execution_count": 24,
   "id": "965fb1a9",
   "metadata": {},
   "outputs": [
    {
     "data": {
      "text/plain": [
       "('Drogheda United',\n",
       " 'Sligo Rovers',\n",
       " '3 - 0',\n",
       " 'Half Time: 1-0\\nKO Time: 19:45',\n",
       " \"J. Thomas 41'\\nD. Markey 74'\\nL. Heeney 94'\",\n",
       " '',\n",
       " ['Fri 21 Feb 2025', 'David Dunne', 'Sullivan & Lambe Park', 'Att: 2,212'])"
      ]
     },
     "execution_count": 24,
     "metadata": {},
     "output_type": "execute_result"
    }
   ],
   "source": [
    "data"
   ]
  },
  {
   "cell_type": "code",
   "execution_count": 26,
   "id": "4515b3f3",
   "metadata": {},
   "outputs": [
    {
     "data": {
      "text/html": [
       "<div>\n",
       "<style scoped>\n",
       "    .dataframe tbody tr th:only-of-type {\n",
       "        vertical-align: middle;\n",
       "    }\n",
       "\n",
       "    .dataframe tbody tr th {\n",
       "        vertical-align: top;\n",
       "    }\n",
       "\n",
       "    .dataframe thead th {\n",
       "        text-align: right;\n",
       "    }\n",
       "</style>\n",
       "<table border=\"1\" class=\"dataframe\">\n",
       "  <thead>\n",
       "    <tr style=\"text-align: right;\">\n",
       "      <th></th>\n",
       "      <th>home_team</th>\n",
       "      <th>away_team</th>\n",
       "      <th>score</th>\n",
       "      <th>kick_off_time</th>\n",
       "      <th>home_goals</th>\n",
       "      <th>away_goals</th>\n",
       "      <th>game_centre_info</th>\n",
       "    </tr>\n",
       "  </thead>\n",
       "  <tbody>\n",
       "    <tr>\n",
       "      <th>0</th>\n",
       "      <td>Drogheda United</td>\n",
       "      <td>Sligo Rovers</td>\n",
       "      <td>3 - 0</td>\n",
       "      <td>Half Time: 1-0\\nKO Time: 19:45</td>\n",
       "      <td>J. Thomas 41'\\nD. Markey 74'\\nL. Heeney 94'</td>\n",
       "      <td></td>\n",
       "      <td>[Fri 21 Feb 2025, David Dunne, Sullivan &amp; Lamb...</td>\n",
       "    </tr>\n",
       "  </tbody>\n",
       "</table>\n",
       "</div>"
      ],
      "text/plain": [
       "         home_team     away_team  score                   kick_off_time  \\\n",
       "0  Drogheda United  Sligo Rovers  3 - 0  Half Time: 1-0\\nKO Time: 19:45   \n",
       "\n",
       "                                    home_goals away_goals  \\\n",
       "0  J. Thomas 41'\\nD. Markey 74'\\nL. Heeney 94'              \n",
       "\n",
       "                                    game_centre_info  \n",
       "0  [Fri 21 Feb 2025, David Dunne, Sullivan & Lamb...  "
      ]
     },
     "execution_count": 26,
     "metadata": {},
     "output_type": "execute_result"
    }
   ],
   "source": [
    "df = pd.DataFrame([data], columns=[\"home_team\", \"away_team\", \"score\",\"kick_off_time\"\n",
    "                                   ,\"home_goals\",\"away_goals\", \"game_centre_info\"])\n",
    "df"
   ]
  },
  {
   "cell_type": "markdown",
   "id": "073918e6",
   "metadata": {},
   "source": [
    "#### Looping through all game centres available on leagueofireland.ie"
   ]
  },
  {
   "cell_type": "code",
   "execution_count": 27,
   "id": "4670503d",
   "metadata": {},
   "outputs": [
    {
     "data": {
      "text/html": [
       "<div>\n",
       "<style scoped>\n",
       "    .dataframe tbody tr th:only-of-type {\n",
       "        vertical-align: middle;\n",
       "    }\n",
       "\n",
       "    .dataframe tbody tr th {\n",
       "        vertical-align: top;\n",
       "    }\n",
       "\n",
       "    .dataframe thead th {\n",
       "        text-align: right;\n",
       "    }\n",
       "</style>\n",
       "<table border=\"1\" class=\"dataframe\">\n",
       "  <thead>\n",
       "    <tr style=\"text-align: right;\">\n",
       "      <th></th>\n",
       "      <th>home_team</th>\n",
       "      <th>away_team</th>\n",
       "      <th>score</th>\n",
       "      <th>kick_off_time</th>\n",
       "      <th>home_goals</th>\n",
       "      <th>away_goals</th>\n",
       "      <th>game_centre_info</th>\n",
       "    </tr>\n",
       "  </thead>\n",
       "  <tbody>\n",
       "  </tbody>\n",
       "</table>\n",
       "</div>"
      ],
      "text/plain": [
       "Empty DataFrame\n",
       "Columns: [home_team, away_team, score, kick_off_time, home_goals, away_goals, game_centre_info]\n",
       "Index: []"
      ]
     },
     "execution_count": 27,
     "metadata": {},
     "output_type": "execute_result"
    }
   ],
   "source": [
    "columns = [\"home_team\", \"away_team\", \"score\",\"kick_off_time\",\"home_goals\",\"away_goals\", \"game_centre_info\"]\n",
    "loi_df = pd.DataFrame(columns=columns)\n",
    "loi_df"
   ]
  },
  {
   "cell_type": "code",
   "execution_count": 30,
   "id": "f39bce13",
   "metadata": {},
   "outputs": [],
   "source": [
    "for i in range (1, 4456):\n",
    "    url = f\"https://www.leagueofireland.ie/game_centre/{i}/\"\n",
    "    #run function to determine whether or not premier division game\n",
    "    is_prem = check_premier(url)\n",
    "    #if it is premier division game, continue with processing\n",
    "    if is_prem: \n",
    "        data = scrape_loi_webpage(url)\n",
    "        df = pd.DataFrame([data], columns=columns)\n",
    "        loi_df =  pd.concat([loi_df, df], ignore_index=True)"
   ]
  },
  {
   "cell_type": "code",
   "execution_count": 31,
   "id": "05f23801",
   "metadata": {},
   "outputs": [],
   "source": [
    "#loi_df[loi_df['home_team'].str.contains(\"Sli\")]"
   ]
  },
  {
   "cell_type": "code",
   "execution_count": 32,
   "id": "d738abb2",
   "metadata": {},
   "outputs": [],
   "source": [
    "#loi_df.to_csv('loi_df.csv')"
   ]
  },
  {
   "cell_type": "code",
   "execution_count": 40,
   "id": "bf1a28be",
   "metadata": {},
   "outputs": [
    {
     "data": {
      "text/html": [
       "<div>\n",
       "<style scoped>\n",
       "    .dataframe tbody tr th:only-of-type {\n",
       "        vertical-align: middle;\n",
       "    }\n",
       "\n",
       "    .dataframe tbody tr th {\n",
       "        vertical-align: top;\n",
       "    }\n",
       "\n",
       "    .dataframe thead th {\n",
       "        text-align: right;\n",
       "    }\n",
       "</style>\n",
       "<table border=\"1\" class=\"dataframe\">\n",
       "  <thead>\n",
       "    <tr style=\"text-align: right;\">\n",
       "      <th></th>\n",
       "      <th>home_team</th>\n",
       "      <th>away_team</th>\n",
       "      <th>score</th>\n",
       "      <th>kick_off_time</th>\n",
       "      <th>home_goals</th>\n",
       "      <th>away_goals</th>\n",
       "      <th>game_centre_info</th>\n",
       "    </tr>\n",
       "  </thead>\n",
       "  <tbody>\n",
       "    <tr>\n",
       "      <th>0</th>\n",
       "      <td>Cork City</td>\n",
       "      <td>Bohemians</td>\n",
       "      <td>1 - 2</td>\n",
       "      <td>Half Time: 0-1\\nKO Time: 19:45</td>\n",
       "      <td>R. Keating 82'</td>\n",
       "      <td>19' G. Horton\\n53' J. Flores</td>\n",
       "      <td>['Fri 17 Feb 2023', 'Robert Hennessy', \"Turner...</td>\n",
       "    </tr>\n",
       "    <tr>\n",
       "      <th>1</th>\n",
       "      <td>Dundalk</td>\n",
       "      <td>UCD</td>\n",
       "      <td>1 - 1</td>\n",
       "      <td>Half Time: 1-0\\nKO Time: 19:45</td>\n",
       "      <td>J. Martin 34'</td>\n",
       "      <td>78' C. Behan</td>\n",
       "      <td>['Fri 17 Feb 2023', 'Arnold Hunter', 'Oriel Pa...</td>\n",
       "    </tr>\n",
       "    <tr>\n",
       "      <th>2</th>\n",
       "      <td>Shelbourne</td>\n",
       "      <td>Drogheda United</td>\n",
       "      <td>0 - 0</td>\n",
       "      <td>Half Time: 0-0\\nKO Time: 19:45</td>\n",
       "      <td>NaN</td>\n",
       "      <td>NaN</td>\n",
       "      <td>['Fri 17 Feb 2023', 'Paul McLaughlin', 'Tolka ...</td>\n",
       "    </tr>\n",
       "    <tr>\n",
       "      <th>3</th>\n",
       "      <td>St Patrick's Athletic</td>\n",
       "      <td>Derry City</td>\n",
       "      <td>NaN</td>\n",
       "      <td>NaN</td>\n",
       "      <td>NaN</td>\n",
       "      <td>NaN</td>\n",
       "      <td>['']</td>\n",
       "    </tr>\n",
       "    <tr>\n",
       "      <th>4</th>\n",
       "      <td>Sligo Rovers</td>\n",
       "      <td>Shamrock Rovers</td>\n",
       "      <td>1 - 1</td>\n",
       "      <td>Half Time: 0-1\\nKO Time: 19:45</td>\n",
       "      <td>L. Browning-Lagerfeldt 94'</td>\n",
       "      <td>17' G. Burke</td>\n",
       "      <td>['Sat 18 Feb 2023', 'Damien MacGraith', 'The S...</td>\n",
       "    </tr>\n",
       "  </tbody>\n",
       "</table>\n",
       "</div>"
      ],
      "text/plain": [
       "               home_team        away_team  score  \\\n",
       "0              Cork City        Bohemians  1 - 2   \n",
       "1                Dundalk              UCD  1 - 1   \n",
       "2             Shelbourne  Drogheda United  0 - 0   \n",
       "3  St Patrick's Athletic       Derry City    NaN   \n",
       "4           Sligo Rovers  Shamrock Rovers  1 - 1   \n",
       "\n",
       "                    kick_off_time                  home_goals  \\\n",
       "0  Half Time: 0-1\\nKO Time: 19:45              R. Keating 82'   \n",
       "1  Half Time: 1-0\\nKO Time: 19:45               J. Martin 34'   \n",
       "2  Half Time: 0-0\\nKO Time: 19:45                         NaN   \n",
       "3                             NaN                         NaN   \n",
       "4  Half Time: 0-1\\nKO Time: 19:45  L. Browning-Lagerfeldt 94'   \n",
       "\n",
       "                     away_goals  \\\n",
       "0  19' G. Horton\\n53' J. Flores   \n",
       "1                  78' C. Behan   \n",
       "2                           NaN   \n",
       "3                           NaN   \n",
       "4                  17' G. Burke   \n",
       "\n",
       "                                    game_centre_info  \n",
       "0  ['Fri 17 Feb 2023', 'Robert Hennessy', \"Turner...  \n",
       "1  ['Fri 17 Feb 2023', 'Arnold Hunter', 'Oriel Pa...  \n",
       "2  ['Fri 17 Feb 2023', 'Paul McLaughlin', 'Tolka ...  \n",
       "3                                               ['']  \n",
       "4  ['Sat 18 Feb 2023', 'Damien MacGraith', 'The S...  "
      ]
     },
     "execution_count": 40,
     "metadata": {},
     "output_type": "execute_result"
    }
   ],
   "source": [
    "loi_df = pd.read_csv('loi_df.csv', index_col=0)\n",
    "loi_df.head()"
   ]
  },
  {
   "cell_type": "markdown",
   "id": "264077ef",
   "metadata": {},
   "source": [
    "### Cleaning the data"
   ]
  },
  {
   "cell_type": "code",
   "execution_count": 41,
   "id": "7d9084d7",
   "metadata": {},
   "outputs": [],
   "source": [
    "# Extract the time using regex\n",
    "loi_df['kick_off_time'] = loi_df['kick_off_time'].str.extract(r'KO Time: (\\d{2}:\\d{2})')"
   ]
  },
  {
   "cell_type": "code",
   "execution_count": 42,
   "id": "6e7e3e7f",
   "metadata": {},
   "outputs": [
    {
     "data": {
      "text/html": [
       "<div>\n",
       "<style scoped>\n",
       "    .dataframe tbody tr th:only-of-type {\n",
       "        vertical-align: middle;\n",
       "    }\n",
       "\n",
       "    .dataframe tbody tr th {\n",
       "        vertical-align: top;\n",
       "    }\n",
       "\n",
       "    .dataframe thead th {\n",
       "        text-align: right;\n",
       "    }\n",
       "</style>\n",
       "<table border=\"1\" class=\"dataframe\">\n",
       "  <thead>\n",
       "    <tr style=\"text-align: right;\">\n",
       "      <th></th>\n",
       "      <th>home_team</th>\n",
       "      <th>away_team</th>\n",
       "      <th>score</th>\n",
       "      <th>kick_off_time</th>\n",
       "      <th>home_goals</th>\n",
       "      <th>away_goals</th>\n",
       "      <th>game_centre_info</th>\n",
       "    </tr>\n",
       "  </thead>\n",
       "  <tbody>\n",
       "    <tr>\n",
       "      <th>0</th>\n",
       "      <td>Cork City</td>\n",
       "      <td>Bohemians</td>\n",
       "      <td>1 - 2</td>\n",
       "      <td>19:45</td>\n",
       "      <td>R. Keating 82'</td>\n",
       "      <td>19' G. Horton\\n53' J. Flores</td>\n",
       "      <td>['Fri 17 Feb 2023', 'Robert Hennessy', \"Turner...</td>\n",
       "    </tr>\n",
       "    <tr>\n",
       "      <th>1</th>\n",
       "      <td>Dundalk</td>\n",
       "      <td>UCD</td>\n",
       "      <td>1 - 1</td>\n",
       "      <td>19:45</td>\n",
       "      <td>J. Martin 34'</td>\n",
       "      <td>78' C. Behan</td>\n",
       "      <td>['Fri 17 Feb 2023', 'Arnold Hunter', 'Oriel Pa...</td>\n",
       "    </tr>\n",
       "    <tr>\n",
       "      <th>2</th>\n",
       "      <td>Shelbourne</td>\n",
       "      <td>Drogheda United</td>\n",
       "      <td>0 - 0</td>\n",
       "      <td>19:45</td>\n",
       "      <td>NaN</td>\n",
       "      <td>NaN</td>\n",
       "      <td>['Fri 17 Feb 2023', 'Paul McLaughlin', 'Tolka ...</td>\n",
       "    </tr>\n",
       "    <tr>\n",
       "      <th>3</th>\n",
       "      <td>St Patrick's Athletic</td>\n",
       "      <td>Derry City</td>\n",
       "      <td>NaN</td>\n",
       "      <td>NaN</td>\n",
       "      <td>NaN</td>\n",
       "      <td>NaN</td>\n",
       "      <td>['']</td>\n",
       "    </tr>\n",
       "    <tr>\n",
       "      <th>4</th>\n",
       "      <td>Sligo Rovers</td>\n",
       "      <td>Shamrock Rovers</td>\n",
       "      <td>1 - 1</td>\n",
       "      <td>19:45</td>\n",
       "      <td>L. Browning-Lagerfeldt 94'</td>\n",
       "      <td>17' G. Burke</td>\n",
       "      <td>['Sat 18 Feb 2023', 'Damien MacGraith', 'The S...</td>\n",
       "    </tr>\n",
       "  </tbody>\n",
       "</table>\n",
       "</div>"
      ],
      "text/plain": [
       "               home_team        away_team  score kick_off_time  \\\n",
       "0              Cork City        Bohemians  1 - 2         19:45   \n",
       "1                Dundalk              UCD  1 - 1         19:45   \n",
       "2             Shelbourne  Drogheda United  0 - 0         19:45   \n",
       "3  St Patrick's Athletic       Derry City    NaN           NaN   \n",
       "4           Sligo Rovers  Shamrock Rovers  1 - 1         19:45   \n",
       "\n",
       "                   home_goals                    away_goals  \\\n",
       "0              R. Keating 82'  19' G. Horton\\n53' J. Flores   \n",
       "1               J. Martin 34'                  78' C. Behan   \n",
       "2                         NaN                           NaN   \n",
       "3                         NaN                           NaN   \n",
       "4  L. Browning-Lagerfeldt 94'                  17' G. Burke   \n",
       "\n",
       "                                    game_centre_info  \n",
       "0  ['Fri 17 Feb 2023', 'Robert Hennessy', \"Turner...  \n",
       "1  ['Fri 17 Feb 2023', 'Arnold Hunter', 'Oriel Pa...  \n",
       "2  ['Fri 17 Feb 2023', 'Paul McLaughlin', 'Tolka ...  \n",
       "3                                               ['']  \n",
       "4  ['Sat 18 Feb 2023', 'Damien MacGraith', 'The S...  "
      ]
     },
     "execution_count": 42,
     "metadata": {},
     "output_type": "execute_result"
    }
   ],
   "source": [
    "loi_df.head()"
   ]
  },
  {
   "cell_type": "markdown",
   "id": "8a779292",
   "metadata": {},
   "source": [
    "##### Analysing null values"
   ]
  },
  {
   "cell_type": "code",
   "execution_count": 46,
   "id": "5fb9f72d",
   "metadata": {},
   "outputs": [
    {
     "data": {
      "text/plain": [
       "home_team             0\n",
       "away_team             0\n",
       "score                 1\n",
       "kick_off_time         1\n",
       "home_goals          103\n",
       "away_goals          122\n",
       "game_centre_info      0\n",
       "dtype: int64"
      ]
     },
     "execution_count": 46,
     "metadata": {},
     "output_type": "execute_result"
    }
   ],
   "source": [
    "loi_df.isnull().sum()"
   ]
  },
  {
   "cell_type": "code",
   "execution_count": 50,
   "id": "7d2e52d4",
   "metadata": {},
   "outputs": [
    {
     "data": {
      "text/html": [
       "<div>\n",
       "<style scoped>\n",
       "    .dataframe tbody tr th:only-of-type {\n",
       "        vertical-align: middle;\n",
       "    }\n",
       "\n",
       "    .dataframe tbody tr th {\n",
       "        vertical-align: top;\n",
       "    }\n",
       "\n",
       "    .dataframe thead th {\n",
       "        text-align: right;\n",
       "    }\n",
       "</style>\n",
       "<table border=\"1\" class=\"dataframe\">\n",
       "  <thead>\n",
       "    <tr style=\"text-align: right;\">\n",
       "      <th></th>\n",
       "      <th>home_team</th>\n",
       "      <th>away_team</th>\n",
       "      <th>score</th>\n",
       "      <th>kick_off_time</th>\n",
       "      <th>home_goals</th>\n",
       "      <th>away_goals</th>\n",
       "      <th>game_centre_info</th>\n",
       "    </tr>\n",
       "  </thead>\n",
       "  <tbody>\n",
       "    <tr>\n",
       "      <th>3</th>\n",
       "      <td>St Patrick's Athletic</td>\n",
       "      <td>Derry City</td>\n",
       "      <td>NaN</td>\n",
       "      <td>NaN</td>\n",
       "      <td>NaN</td>\n",
       "      <td>NaN</td>\n",
       "      <td>['']</td>\n",
       "    </tr>\n",
       "  </tbody>\n",
       "</table>\n",
       "</div>"
      ],
      "text/plain": [
       "               home_team   away_team score kick_off_time home_goals  \\\n",
       "3  St Patrick's Athletic  Derry City   NaN           NaN        NaN   \n",
       "\n",
       "  away_goals game_centre_info  \n",
       "3        NaN             ['']  "
      ]
     },
     "execution_count": 50,
     "metadata": {},
     "output_type": "execute_result"
    }
   ],
   "source": [
    "#removing erroneous match for now; TODO: look at webscraping for this\n",
    "loi_df[loi_df['score'].isnull()]"
   ]
  },
  {
   "cell_type": "code",
   "execution_count": 55,
   "id": "6f391627",
   "metadata": {},
   "outputs": [],
   "source": [
    "loi_df = loi_df.dropna(subset=['score']).reset_index(drop=True)"
   ]
  },
  {
   "cell_type": "code",
   "execution_count": 56,
   "id": "f62d39ed",
   "metadata": {},
   "outputs": [
    {
     "data": {
      "text/html": [
       "<div>\n",
       "<style scoped>\n",
       "    .dataframe tbody tr th:only-of-type {\n",
       "        vertical-align: middle;\n",
       "    }\n",
       "\n",
       "    .dataframe tbody tr th {\n",
       "        vertical-align: top;\n",
       "    }\n",
       "\n",
       "    .dataframe thead th {\n",
       "        text-align: right;\n",
       "    }\n",
       "</style>\n",
       "<table border=\"1\" class=\"dataframe\">\n",
       "  <thead>\n",
       "    <tr style=\"text-align: right;\">\n",
       "      <th></th>\n",
       "      <th>home_team</th>\n",
       "      <th>away_team</th>\n",
       "      <th>score</th>\n",
       "      <th>kick_off_time</th>\n",
       "      <th>home_goals</th>\n",
       "      <th>away_goals</th>\n",
       "      <th>game_centre_info</th>\n",
       "    </tr>\n",
       "  </thead>\n",
       "  <tbody>\n",
       "    <tr>\n",
       "      <th>0</th>\n",
       "      <td>Cork City</td>\n",
       "      <td>Bohemians</td>\n",
       "      <td>1 - 2</td>\n",
       "      <td>19:45</td>\n",
       "      <td>R. Keating 82'</td>\n",
       "      <td>19' G. Horton\\n53' J. Flores</td>\n",
       "      <td>['Fri 17 Feb 2023', 'Robert Hennessy', \"Turner...</td>\n",
       "    </tr>\n",
       "    <tr>\n",
       "      <th>1</th>\n",
       "      <td>Dundalk</td>\n",
       "      <td>UCD</td>\n",
       "      <td>1 - 1</td>\n",
       "      <td>19:45</td>\n",
       "      <td>J. Martin 34'</td>\n",
       "      <td>78' C. Behan</td>\n",
       "      <td>['Fri 17 Feb 2023', 'Arnold Hunter', 'Oriel Pa...</td>\n",
       "    </tr>\n",
       "    <tr>\n",
       "      <th>2</th>\n",
       "      <td>Shelbourne</td>\n",
       "      <td>Drogheda United</td>\n",
       "      <td>0 - 0</td>\n",
       "      <td>19:45</td>\n",
       "      <td>NaN</td>\n",
       "      <td>NaN</td>\n",
       "      <td>['Fri 17 Feb 2023', 'Paul McLaughlin', 'Tolka ...</td>\n",
       "    </tr>\n",
       "    <tr>\n",
       "      <th>3</th>\n",
       "      <td>Sligo Rovers</td>\n",
       "      <td>Shamrock Rovers</td>\n",
       "      <td>1 - 1</td>\n",
       "      <td>19:45</td>\n",
       "      <td>L. Browning-Lagerfeldt 94'</td>\n",
       "      <td>17' G. Burke</td>\n",
       "      <td>['Sat 18 Feb 2023', 'Damien MacGraith', 'The S...</td>\n",
       "    </tr>\n",
       "    <tr>\n",
       "      <th>4</th>\n",
       "      <td>Bohemians</td>\n",
       "      <td>Dundalk</td>\n",
       "      <td>2 - 1</td>\n",
       "      <td>19:45</td>\n",
       "      <td>J. Flores 46'\\nD. McDaid 71'</td>\n",
       "      <td>89' J. Yli-Kokko</td>\n",
       "      <td>['Fri 24 Feb 2023', 'Robert Harvey', 'Dalymoun...</td>\n",
       "    </tr>\n",
       "  </tbody>\n",
       "</table>\n",
       "</div>"
      ],
      "text/plain": [
       "      home_team        away_team  score kick_off_time  \\\n",
       "0     Cork City        Bohemians  1 - 2         19:45   \n",
       "1       Dundalk              UCD  1 - 1         19:45   \n",
       "2    Shelbourne  Drogheda United  0 - 0         19:45   \n",
       "3  Sligo Rovers  Shamrock Rovers  1 - 1         19:45   \n",
       "4     Bohemians          Dundalk  2 - 1         19:45   \n",
       "\n",
       "                     home_goals                    away_goals  \\\n",
       "0                R. Keating 82'  19' G. Horton\\n53' J. Flores   \n",
       "1                 J. Martin 34'                  78' C. Behan   \n",
       "2                           NaN                           NaN   \n",
       "3    L. Browning-Lagerfeldt 94'                  17' G. Burke   \n",
       "4  J. Flores 46'\\nD. McDaid 71'              89' J. Yli-Kokko   \n",
       "\n",
       "                                    game_centre_info  \n",
       "0  ['Fri 17 Feb 2023', 'Robert Hennessy', \"Turner...  \n",
       "1  ['Fri 17 Feb 2023', 'Arnold Hunter', 'Oriel Pa...  \n",
       "2  ['Fri 17 Feb 2023', 'Paul McLaughlin', 'Tolka ...  \n",
       "3  ['Sat 18 Feb 2023', 'Damien MacGraith', 'The S...  \n",
       "4  ['Fri 24 Feb 2023', 'Robert Harvey', 'Dalymoun...  "
      ]
     },
     "execution_count": 56,
     "metadata": {},
     "output_type": "execute_result"
    }
   ],
   "source": [
    "loi_df.head()"
   ]
  },
  {
   "cell_type": "markdown",
   "id": "abbb473d",
   "metadata": {},
   "source": [
    "#### parsing the game_centre_info data"
   ]
  },
  {
   "cell_type": "code",
   "execution_count": 57,
   "id": "65c28d2d",
   "metadata": {},
   "outputs": [],
   "source": [
    "# Convert match_info to string to avoid errors\n",
    "loi_df['game_centre_info'] = loi_df['game_centre_info'].astype(str)\n",
    "\n",
    "# Remove brackets and split the string by \", \"\n",
    "loi_df[['date', 'referee', 'stadium', 'attendance']] = (\n",
    "    loi_df['game_centre_info']\n",
    "    .str.strip('[]')  # Remove brackets\n",
    "    .str.split(', ', expand=True)  # Split by comma and space\n",
    ")\n"
   ]
  },
  {
   "cell_type": "code",
   "execution_count": 59,
   "id": "1dc772be",
   "metadata": {},
   "outputs": [
    {
     "data": {
      "text/plain": [
       "home_team             0\n",
       "away_team             0\n",
       "score                 0\n",
       "kick_off_time         0\n",
       "home_goals          102\n",
       "away_goals          121\n",
       "game_centre_info      0\n",
       "date                  0\n",
       "referee               0\n",
       "stadium               0\n",
       "attendance            0\n",
       "dtype: int64"
      ]
     },
     "execution_count": 59,
     "metadata": {},
     "output_type": "execute_result"
    }
   ],
   "source": [
    "loi_df.isnull().sum()"
   ]
  },
  {
   "cell_type": "code",
   "execution_count": 61,
   "id": "cf2bc86e",
   "metadata": {},
   "outputs": [
    {
     "data": {
      "text/html": [
       "<div>\n",
       "<style scoped>\n",
       "    .dataframe tbody tr th:only-of-type {\n",
       "        vertical-align: middle;\n",
       "    }\n",
       "\n",
       "    .dataframe tbody tr th {\n",
       "        vertical-align: top;\n",
       "    }\n",
       "\n",
       "    .dataframe thead th {\n",
       "        text-align: right;\n",
       "    }\n",
       "</style>\n",
       "<table border=\"1\" class=\"dataframe\">\n",
       "  <thead>\n",
       "    <tr style=\"text-align: right;\">\n",
       "      <th></th>\n",
       "      <th>home_team</th>\n",
       "      <th>away_team</th>\n",
       "      <th>score</th>\n",
       "      <th>kick_off_time</th>\n",
       "      <th>home_goals</th>\n",
       "      <th>away_goals</th>\n",
       "      <th>game_centre_info</th>\n",
       "      <th>date</th>\n",
       "      <th>referee</th>\n",
       "      <th>stadium</th>\n",
       "      <th>attendance</th>\n",
       "    </tr>\n",
       "  </thead>\n",
       "  <tbody>\n",
       "    <tr>\n",
       "      <th>0</th>\n",
       "      <td>Cork City</td>\n",
       "      <td>Bohemians</td>\n",
       "      <td>1 - 2</td>\n",
       "      <td>19:45</td>\n",
       "      <td>R. Keating 82'</td>\n",
       "      <td>19' G. Horton\\n53' J. Flores</td>\n",
       "      <td>['Fri 17 Feb 2023', 'Robert Hennessy', \"Turner...</td>\n",
       "      <td>17.02.2023</td>\n",
       "      <td>'Robert Hennessy'</td>\n",
       "      <td>\"Turner's Cross\"</td>\n",
       "      <td>'Att: 6,487'</td>\n",
       "    </tr>\n",
       "    <tr>\n",
       "      <th>1</th>\n",
       "      <td>Dundalk</td>\n",
       "      <td>UCD</td>\n",
       "      <td>1 - 1</td>\n",
       "      <td>19:45</td>\n",
       "      <td>J. Martin 34'</td>\n",
       "      <td>78' C. Behan</td>\n",
       "      <td>['Fri 17 Feb 2023', 'Arnold Hunter', 'Oriel Pa...</td>\n",
       "      <td>17.02.2023</td>\n",
       "      <td>'Arnold Hunter'</td>\n",
       "      <td>'Oriel Park'</td>\n",
       "      <td>'Att: 3,142'</td>\n",
       "    </tr>\n",
       "    <tr>\n",
       "      <th>2</th>\n",
       "      <td>Shelbourne</td>\n",
       "      <td>Drogheda United</td>\n",
       "      <td>0 - 0</td>\n",
       "      <td>19:45</td>\n",
       "      <td>NaN</td>\n",
       "      <td>NaN</td>\n",
       "      <td>['Fri 17 Feb 2023', 'Paul McLaughlin', 'Tolka ...</td>\n",
       "      <td>17.02.2023</td>\n",
       "      <td>'Paul McLaughlin'</td>\n",
       "      <td>'Tolka Park'</td>\n",
       "      <td>'Att: 3,424'</td>\n",
       "    </tr>\n",
       "    <tr>\n",
       "      <th>3</th>\n",
       "      <td>Sligo Rovers</td>\n",
       "      <td>Shamrock Rovers</td>\n",
       "      <td>1 - 1</td>\n",
       "      <td>19:45</td>\n",
       "      <td>L. Browning-Lagerfeldt 94'</td>\n",
       "      <td>17' G. Burke</td>\n",
       "      <td>['Sat 18 Feb 2023', 'Damien MacGraith', 'The S...</td>\n",
       "      <td>18.02.2023</td>\n",
       "      <td>'Damien MacGraith'</td>\n",
       "      <td>'The Showgrounds'</td>\n",
       "      <td>'Att: 4,248'</td>\n",
       "    </tr>\n",
       "    <tr>\n",
       "      <th>4</th>\n",
       "      <td>Bohemians</td>\n",
       "      <td>Dundalk</td>\n",
       "      <td>2 - 1</td>\n",
       "      <td>19:45</td>\n",
       "      <td>J. Flores 46'\\nD. McDaid 71'</td>\n",
       "      <td>89' J. Yli-Kokko</td>\n",
       "      <td>['Fri 24 Feb 2023', 'Robert Harvey', 'Dalymoun...</td>\n",
       "      <td>24.02.2023</td>\n",
       "      <td>'Robert Harvey'</td>\n",
       "      <td>'Dalymount Park'</td>\n",
       "      <td>'Att: 4,432'</td>\n",
       "    </tr>\n",
       "  </tbody>\n",
       "</table>\n",
       "</div>"
      ],
      "text/plain": [
       "      home_team        away_team  score kick_off_time  \\\n",
       "0     Cork City        Bohemians  1 - 2         19:45   \n",
       "1       Dundalk              UCD  1 - 1         19:45   \n",
       "2    Shelbourne  Drogheda United  0 - 0         19:45   \n",
       "3  Sligo Rovers  Shamrock Rovers  1 - 1         19:45   \n",
       "4     Bohemians          Dundalk  2 - 1         19:45   \n",
       "\n",
       "                     home_goals                    away_goals  \\\n",
       "0                R. Keating 82'  19' G. Horton\\n53' J. Flores   \n",
       "1                 J. Martin 34'                  78' C. Behan   \n",
       "2                           NaN                           NaN   \n",
       "3    L. Browning-Lagerfeldt 94'                  17' G. Burke   \n",
       "4  J. Flores 46'\\nD. McDaid 71'              89' J. Yli-Kokko   \n",
       "\n",
       "                                    game_centre_info        date  \\\n",
       "0  ['Fri 17 Feb 2023', 'Robert Hennessy', \"Turner...  17.02.2023   \n",
       "1  ['Fri 17 Feb 2023', 'Arnold Hunter', 'Oriel Pa...  17.02.2023   \n",
       "2  ['Fri 17 Feb 2023', 'Paul McLaughlin', 'Tolka ...  17.02.2023   \n",
       "3  ['Sat 18 Feb 2023', 'Damien MacGraith', 'The S...  18.02.2023   \n",
       "4  ['Fri 24 Feb 2023', 'Robert Harvey', 'Dalymoun...  24.02.2023   \n",
       "\n",
       "              referee            stadium    attendance  \n",
       "0   'Robert Hennessy'   \"Turner's Cross\"  'Att: 6,487'  \n",
       "1     'Arnold Hunter'       'Oriel Park'  'Att: 3,142'  \n",
       "2   'Paul McLaughlin'       'Tolka Park'  'Att: 3,424'  \n",
       "3  'Damien MacGraith'  'The Showgrounds'  'Att: 4,248'  \n",
       "4     'Robert Harvey'   'Dalymount Park'  'Att: 4,432'  "
      ]
     },
     "execution_count": 61,
     "metadata": {},
     "output_type": "execute_result"
    }
   ],
   "source": [
    "loi_df.head()"
   ]
  },
  {
   "cell_type": "code",
   "execution_count": 63,
   "id": "a878142d",
   "metadata": {},
   "outputs": [],
   "source": [
    "#formatting the date column\n",
    "loi_df['date'] = pd.to_datetime(loi_df['date'].str[4:-1].str.strip(), format='%d %b %Y').dt.strftime('%d.%m.%Y')"
   ]
  },
  {
   "cell_type": "code",
   "execution_count": 66,
   "id": "268c2836",
   "metadata": {},
   "outputs": [
    {
     "data": {
      "text/plain": [
       "array([12, 10, 13], dtype=int64)"
      ]
     },
     "execution_count": 66,
     "metadata": {},
     "output_type": "execute_result"
    }
   ],
   "source": [
    "##checking for any discrepencies in the attendance figures\n",
    "loi_df['attendance'].str.len().unique()"
   ]
  },
  {
   "cell_type": "code",
   "execution_count": 68,
   "id": "4936df02",
   "metadata": {},
   "outputs": [],
   "source": [
    "# Extract numeric attendance (removing \"Att: \" and commas)\n",
    "loi_df['attendance_new'] = (loi_df['attendance'].str.extract(r'(\\d[\\d,]*)')[0]\n",
    "                                               .str.replace(',', '')\n",
    "                                               .fillna(0).astype(int))"
   ]
  },
  {
   "cell_type": "code",
   "execution_count": 70,
   "id": "70d30f17",
   "metadata": {},
   "outputs": [
    {
     "data": {
      "text/html": [
       "<div>\n",
       "<style scoped>\n",
       "    .dataframe tbody tr th:only-of-type {\n",
       "        vertical-align: middle;\n",
       "    }\n",
       "\n",
       "    .dataframe tbody tr th {\n",
       "        vertical-align: top;\n",
       "    }\n",
       "\n",
       "    .dataframe thead th {\n",
       "        text-align: right;\n",
       "    }\n",
       "</style>\n",
       "<table border=\"1\" class=\"dataframe\">\n",
       "  <thead>\n",
       "    <tr style=\"text-align: right;\">\n",
       "      <th></th>\n",
       "      <th>home_team</th>\n",
       "      <th>away_team</th>\n",
       "      <th>score</th>\n",
       "      <th>kick_off_time</th>\n",
       "      <th>home_goals</th>\n",
       "      <th>away_goals</th>\n",
       "      <th>game_centre_info</th>\n",
       "      <th>date</th>\n",
       "      <th>referee</th>\n",
       "      <th>stadium</th>\n",
       "      <th>attendance</th>\n",
       "      <th>attendance_new</th>\n",
       "    </tr>\n",
       "  </thead>\n",
       "  <tbody>\n",
       "    <tr>\n",
       "      <th>160</th>\n",
       "      <td>UCD</td>\n",
       "      <td>Bohemians</td>\n",
       "      <td>1 - 2</td>\n",
       "      <td>19:45</td>\n",
       "      <td>Loading...</td>\n",
       "      <td>Loading...</td>\n",
       "      <td>['Thu 12 Oct 2023', 'Loading...', 'UCD Bowl', ...</td>\n",
       "      <td>12.10.2023</td>\n",
       "      <td>'Loading...'</td>\n",
       "      <td>'UCD Bowl'</td>\n",
       "      <td>'Loading...'</td>\n",
       "      <td>0</td>\n",
       "    </tr>\n",
       "  </tbody>\n",
       "</table>\n",
       "</div>"
      ],
      "text/plain": [
       "    home_team  away_team  score kick_off_time  home_goals  away_goals  \\\n",
       "160       UCD  Bohemians  1 - 2         19:45  Loading...  Loading...   \n",
       "\n",
       "                                      game_centre_info        date  \\\n",
       "160  ['Thu 12 Oct 2023', 'Loading...', 'UCD Bowl', ...  12.10.2023   \n",
       "\n",
       "          referee     stadium    attendance  attendance_new  \n",
       "160  'Loading...'  'UCD Bowl'  'Loading...'               0  "
      ]
     },
     "execution_count": 70,
     "metadata": {},
     "output_type": "execute_result"
    }
   ],
   "source": [
    "loi_df[loi_df['attendance_new']==0]"
   ]
  },
  {
   "cell_type": "code",
   "execution_count": 76,
   "id": "06787cb3",
   "metadata": {},
   "outputs": [],
   "source": [
    "##removing this erroneous value from the dataframe; TODO analysing webscraping later to fix\n",
    "loi_df = loi_df[~loi_df['referee'].str.contains('Loading')]"
   ]
  },
  {
   "cell_type": "code",
   "execution_count": 79,
   "id": "e1f944e6",
   "metadata": {},
   "outputs": [],
   "source": [
    "loi_df = loi_df.drop(columns=['attendance']).rename(columns={'attendance_new': 'attendance'})"
   ]
  },
  {
   "cell_type": "code",
   "execution_count": 82,
   "id": "365c7b8c",
   "metadata": {},
   "outputs": [],
   "source": [
    "loi_df = loi_df.drop(columns=['game_centre_info'])"
   ]
  },
  {
   "cell_type": "code",
   "execution_count": 84,
   "id": "eaa5ad7f",
   "metadata": {},
   "outputs": [
    {
     "name": "stdout",
     "output_type": "stream",
     "text": [
      "<class 'pandas.core.frame.DataFrame'>\n",
      "Int64Index: 366 entries, 0 to 366\n",
      "Data columns (total 10 columns):\n",
      " #   Column         Non-Null Count  Dtype \n",
      "---  ------         --------------  ----- \n",
      " 0   home_team      366 non-null    object\n",
      " 1   away_team      366 non-null    object\n",
      " 2   score          366 non-null    object\n",
      " 3   kick_off_time  366 non-null    object\n",
      " 4   home_goals     264 non-null    object\n",
      " 5   away_goals     245 non-null    object\n",
      " 6   date           366 non-null    object\n",
      " 7   referee        366 non-null    object\n",
      " 8   stadium        366 non-null    object\n",
      " 9   attendance     366 non-null    int32 \n",
      "dtypes: int32(1), object(9)\n",
      "memory usage: 30.0+ KB\n"
     ]
    }
   ],
   "source": [
    "loi_df.info()"
   ]
  },
  {
   "cell_type": "code",
   "execution_count": 89,
   "id": "be1404e4",
   "metadata": {},
   "outputs": [],
   "source": [
    "#converting date column for proper sorting\n",
    "loi_df['date'] = pd.to_datetime(loi_df['date'], format='%d.%m.%Y')"
   ]
  }
 ],
 "metadata": {
  "kernelspec": {
   "display_name": "Python 3",
   "language": "python",
   "name": "python3"
  },
  "language_info": {
   "codemirror_mode": {
    "name": "ipython",
    "version": 3
   },
   "file_extension": ".py",
   "mimetype": "text/x-python",
   "name": "python",
   "nbconvert_exporter": "python",
   "pygments_lexer": "ipython3",
   "version": "3.11.0rc1"
  }
 },
 "nbformat": 4,
 "nbformat_minor": 5
}
